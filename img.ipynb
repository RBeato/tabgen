{
 "cells": [
  {
   "cell_type": "code",
   "execution_count": 1,
   "metadata": {
    "collapsed": true
   },
   "outputs": [],
   "source": [
    "import pandas as pd\n",
    "import seaborn as sns\n",
    "import matplotlib.pyplot as plt\n",
    "import numpy as np\n",
    "import math\n",
    "sns.set_style(\"whitegrid\")"
   ]
  },
  {
   "cell_type": "code",
   "execution_count": 2,
   "metadata": {
    "collapsed": true
   },
   "outputs": [],
   "source": [
    "from tabgen.definitions import *\n",
    "from tabgen.modelling import *\n",
    "from tabgen.evaluation import DummyFrettingEvaluator"
   ]
  },
  {
   "cell_type": "markdown",
   "metadata": {},
   "source": [
    "# Distribution of Fretting Possibilities"
   ]
  },
  {
   "cell_type": "code",
   "execution_count": 14,
   "metadata": {
    "collapsed": true
   },
   "outputs": [],
   "source": [
    "evaluator = DummyFrettingEvaluator()"
   ]
  },
  {
   "cell_type": "code",
   "execution_count": 10,
   "metadata": {
    "collapsed": true
   },
   "outputs": [],
   "source": [
    "configs = {\n",
    "    'standard 24 frets': StringConfig(num_frets=24, string_pitches=[40, 45, 50, 55, 59, 64]),\n",
    "    'drop D 24 frets': StringConfig(num_frets=24, string_pitches=[38, 45, 50, 55, 59, 64]),\n",
    "    'standard 20 frets': StringConfig(num_frets=20, string_pitches=[40, 45, 50, 55, 59, 64]),\n",
    "}"
   ]
  },
  {
   "cell_type": "code",
   "execution_count": 11,
   "metadata": {
    "collapsed": true
   },
   "outputs": [],
   "source": [
    "fretting_counts = {}\n",
    "\n",
    "for name, config in configs.items():\n",
    "    fretting_counts[name] = {}\n",
    "    \n",
    "    for pitch in range(config.min_pitch, config.max_pitch + 1):\n",
    "        count = len(Pitch(pitch).get_note_frettings(config))\n",
    "        if count in fretting_counts[name]:\n",
    "            fretting_counts[name][count] += 1\n",
    "        else:\n",
    "            fretting_counts[name][count] = 1"
   ]
  },
  {
   "cell_type": "code",
   "execution_count": 19,
   "metadata": {},
   "outputs": [
    {
     "data": {
      "text/html": [
       "<div>\n",
       "<style>\n",
       "    .dataframe thead tr:only-child th {\n",
       "        text-align: right;\n",
       "    }\n",
       "\n",
       "    .dataframe thead th {\n",
       "        text-align: left;\n",
       "    }\n",
       "\n",
       "    .dataframe tbody tr th {\n",
       "        vertical-align: top;\n",
       "    }\n",
       "</style>\n",
       "<table border=\"1\" class=\"dataframe\">\n",
       "  <thead>\n",
       "    <tr style=\"text-align: right;\">\n",
       "      <th></th>\n",
       "      <th>1</th>\n",
       "      <th>2</th>\n",
       "      <th>3</th>\n",
       "      <th>4</th>\n",
       "      <th>5</th>\n",
       "      <th>6</th>\n",
       "    </tr>\n",
       "  </thead>\n",
       "  <tbody>\n",
       "    <tr>\n",
       "      <th>drop D 24 frets</th>\n",
       "      <td>12</td>\n",
       "      <td>9</td>\n",
       "      <td>10</td>\n",
       "      <td>10</td>\n",
       "      <td>10</td>\n",
       "      <td>0</td>\n",
       "    </tr>\n",
       "    <tr>\n",
       "      <th>standard 20 frets</th>\n",
       "      <td>10</td>\n",
       "      <td>9</td>\n",
       "      <td>10</td>\n",
       "      <td>12</td>\n",
       "      <td>4</td>\n",
       "      <td>0</td>\n",
       "    </tr>\n",
       "    <tr>\n",
       "      <th>standard 24 frets</th>\n",
       "      <td>10</td>\n",
       "      <td>9</td>\n",
       "      <td>10</td>\n",
       "      <td>9</td>\n",
       "      <td>10</td>\n",
       "      <td>1</td>\n",
       "    </tr>\n",
       "  </tbody>\n",
       "</table>\n",
       "</div>"
      ],
      "text/plain": [
       "                    1  2   3   4   5  6\n",
       "drop D 24 frets    12  9  10  10  10  0\n",
       "standard 20 frets  10  9  10  12   4  0\n",
       "standard 24 frets  10  9  10   9  10  1"
      ]
     },
     "execution_count": 19,
     "metadata": {},
     "output_type": "execute_result"
    }
   ],
   "source": [
    "distributions = pd.DataFrame(fretting_counts).fillna(0).astype(pd.np.int32).T\n",
    "distributions"
   ]
  },
  {
   "cell_type": "code",
   "execution_count": 12,
   "metadata": {},
   "outputs": [
    {
     "data": {
      "image/png": "[encoded data removed]",
      "text/plain": [
       "<matplotlib.figure.Figure at 0x281fd28d358>"
      ]
     },
     "metadata": {},
     "output_type": "display_data"
    }
   ],
   "source": [
    "distributions.T.plot(kind='bar')\n",
    "plt.show()"
   ]
  },
  {
   "cell_type": "code",
   "execution_count": 13,
   "metadata": {},
   "outputs": [
    {
     "data": {
      "image/png": "[encoded data removed]",
      "text/plain": [
       "<matplotlib.figure.Figure at 0x281fd3b3978>"
      ]
     },
     "metadata": {},
     "output_type": "display_data"
    }
   ],
   "source": [
    "distributions.loc['standard 24 frets'].plot(kind='bar')\n",
    "plt.title('Distribution of number of possible frettings')\n",
    "plt.xlabel('Possible Frettings')\n",
    "plt.ylabel('Number of Pitches')\n",
    "plt.show()"
   ]
  },
  {
   "cell_type": "code",
   "execution_count": 20,
   "metadata": {},
   "outputs": [
    {
     "name": "stderr",
     "output_type": "stream",
     "text": [
      "E:\\Dokumente\\MSc Data Science\\_MSC\\dev\\tabgen\\tabgen\\modelling.py:456: UserWarning: Pre-filtering removed all frettings! Defaulting to all frettings.\n",
      "  warnings.warn('Pre-filtering removed all frettings! Defaulting to all frettings.')\n"
     ]
    }
   ],
   "source": [
    "chord_fretting_counts = {}\n",
    "\n",
    "for name, config in configs.items():\n",
    "    chord_fretting_counts[name] = {}\n",
    "    \n",
    "    for pitch1 in range(config.min_pitch, config.max_pitch + 1):\n",
    "        for pitch2 in range(config.min_pitch, config.max_pitch + 1):\n",
    "            try:\n",
    "                count = len(Chord(1.0,[pitch1, pitch2], False).get_chord_frettings(config, evaluator))\n",
    "                if count in chord_fretting_counts[name]:\n",
    "                    chord_fretting_counts[name][count] += 1\n",
    "                else:\n",
    "                    chord_fretting_counts[name][count] = 1\n",
    "            except NoValidFrettingException:\n",
    "                pass"
   ]
  },
  {
   "cell_type": "code",
   "execution_count": 21,
   "metadata": {
    "collapsed": true
   },
   "outputs": [],
   "source": [
    "for key in range(max(chord_fretting_counts['standard 24 frets'].keys())):\n",
    "    if key not in chord_fretting_counts['standard 24 frets']:\n",
    "        chord_fretting_counts['standard 24 frets'][key] = 0"
   ]
  },
  {
   "cell_type": "code",
   "execution_count": 22,
   "metadata": {},
   "outputs": [
    {
     "data": {
      "text/html": [
       "<div>\n",
       "<style>\n",
       "    .dataframe thead tr:only-child th {\n",
       "        text-align: right;\n",
       "    }\n",
       "\n",
       "    .dataframe thead th {\n",
       "        text-align: left;\n",
       "    }\n",
       "\n",
       "    .dataframe tbody tr th {\n",
       "        vertical-align: top;\n",
       "    }\n",
       "</style>\n",
       "<table border=\"1\" class=\"dataframe\">\n",
       "  <thead>\n",
       "    <tr style=\"text-align: right;\">\n",
       "      <th></th>\n",
       "      <th>0</th>\n",
       "      <th>1</th>\n",
       "      <th>2</th>\n",
       "      <th>3</th>\n",
       "      <th>4</th>\n",
       "      <th>5</th>\n",
       "      <th>6</th>\n",
       "      <th>7</th>\n",
       "      <th>8</th>\n",
       "      <th>9</th>\n",
       "      <th>10</th>\n",
       "      <th>11</th>\n",
       "      <th>12</th>\n",
       "    </tr>\n",
       "  </thead>\n",
       "  <tbody>\n",
       "    <tr>\n",
       "      <th>drop D 24 frets</th>\n",
       "      <td>0</td>\n",
       "      <td>642</td>\n",
       "      <td>572</td>\n",
       "      <td>502</td>\n",
       "      <td>296</td>\n",
       "      <td>244</td>\n",
       "      <td>143</td>\n",
       "      <td>90</td>\n",
       "      <td>28</td>\n",
       "      <td>6</td>\n",
       "      <td>0</td>\n",
       "      <td>0</td>\n",
       "      <td>4</td>\n",
       "    </tr>\n",
       "    <tr>\n",
       "      <th>standard 20 frets</th>\n",
       "      <td>0</td>\n",
       "      <td>512</td>\n",
       "      <td>410</td>\n",
       "      <td>424</td>\n",
       "      <td>234</td>\n",
       "      <td>190</td>\n",
       "      <td>111</td>\n",
       "      <td>68</td>\n",
       "      <td>20</td>\n",
       "      <td>2</td>\n",
       "      <td>0</td>\n",
       "      <td>0</td>\n",
       "      <td>4</td>\n",
       "    </tr>\n",
       "    <tr>\n",
       "      <th>standard 24 frets</th>\n",
       "      <td>0</td>\n",
       "      <td>552</td>\n",
       "      <td>414</td>\n",
       "      <td>476</td>\n",
       "      <td>310</td>\n",
       "      <td>260</td>\n",
       "      <td>173</td>\n",
       "      <td>106</td>\n",
       "      <td>30</td>\n",
       "      <td>26</td>\n",
       "      <td>0</td>\n",
       "      <td>0</td>\n",
       "      <td>4</td>\n",
       "    </tr>\n",
       "  </tbody>\n",
       "</table>\n",
       "</div>"
      ],
      "text/plain": [
       "                   0    1    2    3    4    5    6    7   8   9   10  11  12\n",
       "drop D 24 frets     0  642  572  502  296  244  143   90  28   6   0   0   4\n",
       "standard 20 frets   0  512  410  424  234  190  111   68  20   2   0   0   4\n",
       "standard 24 frets   0  552  414  476  310  260  173  106  30  26   0   0   4"
      ]
     },
     "execution_count": 22,
     "metadata": {},
     "output_type": "execute_result"
    }
   ],
   "source": [
    "chord_distributions = pd.DataFrame(chord_fretting_counts).fillna(0).astype(pd.np.int32).T\n",
    "chord_distributions"
   ]
  },
  {
   "cell_type": "code",
   "execution_count": 23,
   "metadata": {},
   "outputs": [
    {
     "data": {
      "image/png": "[encoded data removed]",
      "text/plain": [
       "<matplotlib.figure.Figure at 0x281fd29b940>"
      ]
     },
     "metadata": {},
     "output_type": "display_data"
    }
   ],
   "source": [
    "chord_distributions.loc['standard 24 frets'].plot(kind='bar')\n",
    "plt.title('Distribution of number of possible frettings per chord')\n",
    "plt.xlabel('Possible Frettings')\n",
    "plt.ylabel('Number of Chords')\n",
    "plt.show()"
   ]
  },
  {
   "cell_type": "code",
   "execution_count": 24,
   "metadata": {},
   "outputs": [
    {
     "data": {
      "text/plain": [
       "12"
      ]
     },
     "execution_count": 24,
     "metadata": {},
     "output_type": "execute_result"
    }
   ],
   "source": [
    "max(chord_fretting_counts['standard 24 frets'].keys())"
   ]
  },
  {
   "cell_type": "markdown",
   "metadata": {},
   "source": [
    "# Sigmoid graphic for NN info"
   ]
  },
  {
   "cell_type": "code",
   "execution_count": 25,
   "metadata": {
    "collapsed": true
   },
   "outputs": [],
   "source": [
    "sigmoid = lambda x: 1.0 / (1 + math.exp(-x))"
   ]
  },
  {
   "cell_type": "code",
   "execution_count": 26,
   "metadata": {},
   "outputs": [
    {
     "data": {
      "image/png": "[encoded data removed]",
      "text/plain": [
       "<matplotlib.figure.Figure at 0x281fd5155f8>"
      ]
     },
     "metadata": {},
     "output_type": "display_data"
    }
   ],
   "source": [
    "rr = np.linspace(-10,10)\n",
    "plt.figure(figsize=(3,3))\n",
    "plt.plot(rr, [sigmoid(r) for r in rr], c='k')\n",
    "plt.xticks([])\n",
    "plt.yticks([])\n",
    "plt.box()\n",
    "plt.show()"
   ]
  },
  {
   "cell_type": "code",
   "execution_count": 39,
   "metadata": {},
   "outputs": [
    {
     "data": {
      "image/png": "[encoded data removed]",
      "text/plain": [
       "<matplotlib.figure.Figure at 0x1f9ad5120f0>"
      ]
     },
     "metadata": {},
     "output_type": "display_data"
    }
   ],
   "source": [
    "rr = np.linspace(-10,10)/10\n",
    "plt.figure(figsize=(10,6))\n",
    "plt.plot(rr, [r ** 2 for r in rr], c='k')\n",
    "plt.xlabel('Weight')\n",
    "plt.ylabel('Loss')\n",
    "# plt.xlim((-0.75,0.75))\n",
    "# plt.ylim((0, 0.6))\n",
    "# plt.plot(0.6, 0.6**2, 'go', markersize=12)\n",
    "plt.show()"
   ]
  },
  {
   "cell_type": "markdown",
   "metadata": {
    "collapsed": true
   },
   "source": [
    "# Plot the accuracies of models"
   ]
  },
  {
   "cell_type": "code",
   "execution_count": 113,
   "metadata": {},
   "outputs": [
    {
     "name": "stderr",
     "output_type": "stream",
     "text": [
      "c:\\users\\elias\\appdata\\local\\conda\\conda\\envs\\tensorflow\\lib\\site-packages\\seaborn\\categorical.py:2342: UserWarning: The violinplot API has been changed. Attempting to adjust your arguments for the new API (which might not work). Please update your code. See the version 0.6 release notes for more info.\n",
      "  warnings.warn(msg, UserWarning)\n"
     ]
    },
    {
     "data": {
      "image/png": "[encoded data removed]",
      "text/plain": [
       "<matplotlib.figure.Figure at 0x1f9aefca358>"
      ]
     },
     "metadata": {},
     "output_type": "display_data"
    }
   ],
   "source": [
    "# old measures\n",
    "model_accuracies = pd.DataFrame({\n",
    "    # plain\n",
    "    # 'pred\\ndescr2x8_8\\nchords': [57.120743034055735, 68.39622641509435, 64.95726495726495, 84.27672955974843, 32.07070707070707, 44.303797468354425, 71.72827172827174, 73.29729729729729, 72.09302325581395, 72.09302325581395, 78.89009793253537, 43.75, 0.1277139208173691, 72.66922094508301, 56.80628272251309, 3.488372093023256, 46.846846846846844, 46.846846846846844, 2.046384720327422, 1.7266187050359711, 68.75800256081946, 52.21238938053098, 76.25, 57.09219858156028, 36.342042755344416, 31.963470319634702, 41.74174174174174, 77.58620689655173, 93.76344086021506, 71.11111111111111, 67.04545454545455, 75.0, 54.0, 54.0, 98.94551845342706, 49.42528735632184, 82.7485380116959, 50.29585798816568, 71.25984251968504],\n",
    "    'pred\\ndescr2x2_8\\nchords': [54.179566563467496, 76.88679245283019, 54.27350427350427, 61.0062893081761, 51.515151515151516, 36.708860759493675, 69.33066933066932, 71.56756756756756, 62.7906976744186, 62.7906976744186, 75.95212187159956, 43.99038461538461, 100.0, 4.597701149425287, 46.596858638743456, 3.488372093023256, 63.96396396396396, 63.96396396396396, 1.9099590723055935, 1.5827338129496402, 80.79385403329066, 47.1976401179941, 70.83333333333334, 46.09929078014184, 36.81710213776722, 32.87671232876712, 71.17117117117117, 75.86206896551724, 72.47311827956989, 71.11111111111111, 68.18181818181817, 100.0, 64.66666666666666, 64.66666666666666, 98.94551845342706, 49.42528735632184, 62.28070175438597, 56.50887573964497, 55.51181102362205],\n",
    "    'pred\\ndescr2x2+1_8\\nchords': [56.656346749226, 49.056603773584904, 60.04273504273504, 74.21383647798741, 59.09090909090909, 57.59493670886076, 64.73526473526474, 69.2972972972973, 62.7906976744186, 62.7906976744186, 75.73449401523395, 35.57692307692308, 0.38314176245210724, 72.66922094508301, 46.33507853403142, 3.488372093023256, 47.74774774774775, 47.74774774774775, 1.7735334242837655, 1.4388489208633095, 27.528809218950062, 61.6519174041298, 65.0, 46.09929078014184, 47.26840855106889, 32.87671232876712, 51.35135135135135, 77.58620689655173, 85.80645161290322, 40.0, 65.9090909090909, 100.0, 76.66666666666667, 76.66666666666667, 98.94551845342706, 58.620689655172406, 76.90058479532163, 69.23076923076923, 71.25984251968504],\n",
    "    'pred\\ndescr2x8+1_8\\nchords': [54.79876160990712, 54.24528301886793, 60.89743589743589, 75.47169811320755, 40.4040404040404, 50.0, 68.43156843156844, 69.72972972972973, 65.89147286821705, 65.89147286821705, 77.80195865070729, 43.269230769230774, 0.38314176245210724, 84.2911877394636, 46.596858638743456, 3.488372093023256, 31.53153153153153, 31.53153153153153, 1.7735334242837655, 1.4388489208633095, 51.21638924455826, 53.687315634218294, 65.20833333333333, 58.86524822695035, 36.81710213776722, 31.963470319634702, 50.45045045045045, 77.58620689655173, 89.24731182795699, 71.11111111111111, 67.04545454545455, 100.0, 75.33333333333333, 75.33333333333333, 98.94551845342706, 49.42528735632184, 93.85964912280701, 61.24260355029586, 70.47244094488188],\n",
    "    'pred\\nvector/sparse\\nchords': [56.811145510835914, 53.301886792452834, 21.367521367521366, 35.84905660377358, 31.565656565656564, 43.037974683544306, 89.31068931068931, 81.62162162162161, 70.54263565891473, 70.54263565891473, 89.44504896626768, 38.94230769230769, 99.87228607918263, 4.597701149425287, 20.418848167539267, 0.0, 9.90990990990991, 9.90990990990991, 1.7735334242837655, 1.5827338129496402, 94.36619718309859, 48.96755162241888, 59.791666666666664, 0.0, 54.63182897862233, 100.0, 91.8918918918919, 75.86206896551724, 68.60215053763442, 68.88888888888889, 37.5, 100.0, 93.83333333333333, 93.83333333333333, 98.94551845342706, 19.54022988505747, 55.26315789473685, 49.40828402366864, 64.56692913385827],\n",
    "    'pred\\nvector/sparse\\nchords\\nno heur' : [52.78637770897833, 37.735849056603776, 35.8974358974359, 58.80503144654088, 15.151515151515152, 44.936708860759495, 73.72627372627373, 72.32432432432432, 72.09302325581395, 72.09302325581395, 62.35038084874864, 44.230769230769226, 20.434227330779056, 4.725415070242656, 46.596858638743456, 1.744186046511628, 31.53153153153153, 31.53153153153153, 1.6371077762619373, 1.4388489208633095, 12.163892445582587, 50.442477876106196, 54.79166666666667, 48.226950354609926, 62.23277909738717, 32.87671232876712, 88.28828828828829, 79.3103448275862, 18.70967741935484, 28.888888888888886, 45.45454545454545, 91.66666666666666, 90.0, 90.0, 82.77680140597539, 40.229885057471265, 42.98245614035088, 42.60355029585799, 48.031496062992126],\n",
    "    'pred\\nsparse/sparse\\nchords': [58.82352941176471, 24.056603773584907, 51.06837606837607, 81.13207547169812, 64.14141414141415, 51.89873417721519, 77.22277722277722, 82.05405405405405, 72.09302325581395, 72.09302325581395, 81.39281828073993, 50.72115384615385, 76.62835249042146, 21.58365261813538, 11.518324607329843, 0.0, 20.72072072072072, 20.72072072072072, 1.6371077762619373, 1.4388489208633095, 100.0, 75.51622418879056, 52.916666666666664, 0.0, 60.09501187648456, 12.32876712328767, 93.09309309309309, 79.3103448275862, 90.32258064516128, 15.555555555555555, 75.0, 100.0, 93.83333333333333, 93.83333333333333, 98.94551845342706, 63.2183908045977, 71.9298245614035, 44.08284023668639, 59.055118110236215],\n",
    "    'pred\\ndescr2x8+1_8\\nchords\\nnoLSTM': [58.04953560371517, 2.358490566037736, 48.504273504273506, 72.32704402515722, 37.37373737373738, 34.177215189873415, 67.63236763236763, 69.83783783783784, 62.7906976744186, 62.7906976744186, 73.12295973884657, 43.75, 100.0, 8.301404853128991, 66.2303664921466, 0.0, 31.53153153153153, 31.53153153153153, 1.7735334242837655, 1.4388489208633095, 53.39308578745199, 49.557522123893804, 48.541666666666664, 64.8936170212766, 66.5083135391924, 33.33333333333333, 66.06606606606607, 77.58620689655173, 76.77419354838709, 28.888888888888886, 57.95454545454546, 100.0, 76.66666666666667, 76.66666666666667, 98.94551845342706, 78.16091954022988, 90.35087719298247, 40.23668639053255, 44.881889763779526],\n",
    "    'pred\\ndescr2x8+1_8\\nchords\\n2': [49.07120743034056, 49.056603773584904, 46.15384615384615, 72.95597484276729, 71.46464646464646, 51.26582278481012, 67.13286713286713, 69.83783783783784, 62.7906976744186, 62.7906976744186, 79.97823721436343, 37.980769230769226, 100.0, 6.513409961685824, 46.596858638743456, 47.093023255813954, 45.94594594594595, 45.94594594594595, 2.728512960436562, 2.446043165467626, 32.52240717029449, 70.20648967551622, 51.66666666666667, 48.93617021276596, 35.62945368171022, 43.83561643835616, 64.56456456456456, 77.58620689655173, 81.29032258064515, 57.77777777777777, 68.18181818181817, 100.0, 78.5, 78.5, 98.94551845342706, 70.11494252873564, 84.7953216374269, 49.40828402366864, 58.26771653543307],\n",
    "    \n",
    "    # 'pred\\nall\\nchords'\n",
    "    \n",
    "    # delta\n",
    "    # 'pred\\nall\\nchords\\ndelta'\n",
    "    # 'pred\\ndescr2x8+1_8\\nchords\\ndelta'\n",
    "    # 'pred\\nvector/sparse\\nchords\\ndelta'\n",
    "    # 'pred\\nsparse/sparse\\nchords\\ndelta'\n",
    "    \n",
    "    # sequential\n",
    "    # 'pred\\nall\\nsequential'\n",
    "    # 'pred\\ndescr2x2_2\\nsequential'\n",
    "    # 'pred\\nvector/sparse\\nsequential'\n",
    "#     'pred\\nsparse/sparse\\nsequential': [52.706843718079675, 34.86005089058524, 43.232044198895025, 91.50943396226415, 27.51842751842752, 56.830601092896174, 80.11317704122878, 81.95038494439693, 72.09302325581395, 72.09302325581395, 81.06637649619152, 52.483443708609265, 21.22552116234997, 21.58365261813538, 82.72251308900523, 100.0, 38.73873873873874, 38.73873873873874, 68.14159292035397, 57.91666666666667, 0.0, 73.32549941245593, 33.33333333333333, 87.16744913928012, 79.3103448275862, 92.90322580645162, 46.666666666666664, 48.818897637795274, 100.0, 95.04322766570606, 95.04322766570606, 98.94551845342706, 73.88059701492537, 38.30409356725146, 34.15233415233415, 55.90277777777778],\n",
    "    \n",
    "    # delta sequential\n",
    "    # 'pred\\nall\\nsequential\\ndelta'\n",
    "#     'pred\\ndescr1x1_1\\nsequential\\ndelta': [72.35246564268391, 75.44910179640718, 72.09302325581395, 72.09302325581395, 75.29923830250273, 37.086092715231786, 2.2109917877447884, 4.597701149425287, 3.926701570680628, 22.093023255813954, 44.14414414414414, 44.14414414414414, 6.1946902654867255, 0.4166666666666667, 48.226950354609926, 39.365452408930665, 21.91780821917808, 74.17840375586854, 68.96551724137932, 4.946236559139785, 64.44444444444444, 49.60629921259843, 100.0, 81.21037463976946, 81.21037463976946, 98.94551845342706, 27.611940298507463, 48.24561403508772, 33.169533169533175, 41.31944444444444],\n",
    "    # 'pred\\nvector/sparse\\nsequential\\ndelta'\n",
    "    # 'pred\\nsparse/sparse\\nsequential\\ndelta'\n",
    "    \n",
    "    # === cost-based models\n",
    "#     'cost\\nall\\nchords': [30.185758513931887, 4.245283018867925, 30.982905982905983, 80.50314465408806, 36.11111111111111, 32.278481012658226, 75.82417582417582, 69.08108108108108, 78.29457364341084, 78.29457364341084, 79.5429815016322, 24.519230769230766, 18.39080459770115, 66.66666666666666, 48.69109947643979, 57.55813953488372, 21.62162162162162, 21.62162162162162, 2.728512960436562, 2.446043165467626, 62.355953905249685, 35.39823008849557, 28.125, 42.90780141843972, 25.890736342042754, 21.91780821917808, 41.44144144144144, 75.86206896551724, 76.98924731182795, 40.0, 50.0, 72.61904761904762, 61.5, 61.5, 98.94551845342706, 43.67816091954023, 29.82456140350877, 32.544378698224854, 51.181102362204726],\n",
    "#     'cost\\ndescr2x8+1_8\\nchords': [18.575851393188856, 66.98113207547169, 13.88888888888889, 41.19496855345912, 9.595959595959595, 43.037974683544306, 57.642357642357645, 68.97297297297297, 62.7906976744186, 62.7906976744186, 74.10228509249184, 18.269230769230766, 0.0, 6.385696040868455, 11.2565445026178, 65.11627906976744, 24.324324324324326, 24.324324324324326, 4.774897680763983, 3.741007194244604, 26.504481434058896, 48.67256637168141, 25.0, 26.595744680851062, 40.142517814726844, 32.87671232876712, 69.36936936936937, 77.58620689655173, 84.08602150537634, 62.22222222222222, 27.27272727272727, 100.0, 56.49999999999999, 56.49999999999999, 76.97715289982425, 22.988505747126435, 28.07017543859649, 28.402366863905325, 50.0],\n",
    "#     'cost\\ndescr2x8+1_8\\nchords\\nno heur': [27.708978328173373, 58.9622641509434, 19.65811965811966, 66.98113207547169, 21.464646464646464, 62.0253164556962, 61.038961038961034, 61.62162162162163, 62.7906976744186, 62.7906976744186, 75.40805223068553, 8.173076923076923, 0.0, 6.385696040868455, 44.50261780104712, 0.0, 30.630630630630627, 30.630630630630627, 7.094133697135062, 6.618705035971223, 8.322663252240718, 57.817109144542776, 21.041666666666668, 42.5531914893617, 51.06888361045131, 22.37442922374429, 37.53753753753754, 79.3103448275862, 78.27956989247312, 75.55555555555556, 35.22727272727273, 45.23809523809524, 25.166666666666664, 25.166666666666664, 82.77680140597539, 28.735632183908045, 55.26315789473685, 47.633136094674555, 53.937007874015755],\n",
    "#     'cost\\ndescr2x8+1_8\\nchords\\nLSTM': [36.84210526315789, 63.20754716981132, 64.52991452991454, 15.40880503144654, 12.121212121212121, 20.88607594936709, 70.32967032967034, 70.37837837837839, 76.74418604651163, 76.74418604651163, 61.915125136017416, 24.278846153846153, 0.0, 8.939974457215836, 5.49738219895288, 36.04651162790697, 36.03603603603604, 36.03603603603604, 3.547066848567531, 2.877697841726619, 37.38796414852753, 10.32448377581121, 15.625, 2.8368794326241136, 39.19239904988123, 54.794520547945204, 1.8018018018018018, 58.620689655172406, 32.043010752688176, 48.888888888888886, 25.0, 45.23809523809524, 23.833333333333336, 23.833333333333336, 86.11599297012302, 1.1494252873563218, 0.0, 33.72781065088758, 62.59842519685039],\n",
    "    \n",
    "#     'cost\\nvector/sparse\\nchords\\nno heur': [26.006191950464398, 25.0, 17.094017094017094, 69.18238993710692, 50.505050505050505, 18.354430379746837, 64.33566433566433, 61.29729729729729, 67.44186046511628, 67.44186046511628, 83.02502720348205, 34.855769230769226, 17.24137931034483, 8.301404853128991, 26.96335078534031, 0.0, 41.44144144144144, 41.44144144144144, 51.56889495225102, 53.956834532374096, 92.44558258642766, 82.59587020648968, 32.29166666666667, 0.0, 43.705463182897866, 32.87671232876712, 64.26426426426426, 75.86206896551724, 78.06451612903226, 48.888888888888886, 44.31818181818182, 47.61904761904761, 27.0, 27.0, 98.94551845342706, 13.793103448275861, 49.122807017543856, 48.5207100591716, 53.14960629921261],\n",
    "    # 'cost\\nsparse/sparse\\nchords'\n",
    "        \n",
    "    # delta\n",
    "    # 'cost\\nall\\nchords\\ndelta'\n",
    "    'cost\\ndescr2x8+1_8\\nchords\\ndelta': [32.972136222910216, 74.52830188679245, 25.427350427350426, 52.83018867924528, 15.909090909090908, 26.582278481012654, 74.92507492507492, 72.97297297297297, 59.68992248062015, 59.68992248062015, 78.23721436343853, 17.78846153846154, 1.532567049808429, 8.301404853128991, 25.654450261780106, 9.30232558139535, 12.612612612612612, 12.612612612612612, 24.556616643929058, 22.15827338129496, 33.93085787451985, 26.548672566371685, 3.958333333333333, 54.25531914893617, 56.294536817102134, 22.37442922374429, 65.46546546546547, 74.13793103448276, 40.0, 35.55555555555556, 25.0, 86.90476190476191, 79.83333333333333, 79.83333333333333, 98.94551845342706, 50.57471264367817, 58.77192982456141, 20.710059171597635, 43.30708661417323],\n",
    "    # 'cost\\nvector/sparse\\nchords\\ndelta'\n",
    "    # 'cost\\nsparse/sparse\\nchords\\ndelta'\n",
    "    \n",
    "    # sequential\n",
    "    # 'cost\\nall\\nsequential'\n",
    "#     'cost\\ndescr1x1_1\\nsequential': [24.310520939734424, 0.5089058524173028, 7.18232044198895, 2.515723270440252, 7.616707616707617, 28.96174863387978, 88.03556992724333, 82.72027373823782, 72.09302325581395, 72.09302325581395, 81.71926006528835, 4.470198675496689, 92.04042956411877, 4.597701149425287, 0.0, 64.53488372093024, 19.81981981981982, 19.81981981981982, 14.470108695652172, 13.48870056497175, 31.75416133162612, 25.958702064896755, 2.083333333333333, 42.5531914893617, 28.672150411280846, 0.0, 32.237871674491394, 70.6896551724138, 19.35483870967742, 35.55555555555556, 35.43307086614173, 100.0, 91.87319884726224, 91.87319884726224, 97.01230228471002, 38.80597014925373, 10.526315789473683, 10.073710073710075, 42.70833333333333],\n",
    "#     'cost\\nvector/sparse\\nsequential': [33.40143003064352, 15.012722646310433, 18.093922651933703, 38.9937106918239, 18.42751842751843, 22.404371584699454, 81.56831042845593, 80.4961505560308, 67.44186046511628, 67.44186046511628, 79.76060935799782, 47.35099337748344, 79.97473152242578, 6.641123882503193, 28.79581151832461, 58.720930232558146, 13.513513513513514, 13.513513513513514, 57.52212389380531, 42.5, 17.375886524822697, 68.2726204465335, 32.87671232876712, 71.04851330203444, 82.75862068965517, 85.80645161290322, 35.55555555555556, 28.346456692913385, 80.0, 75.10086455331411, 75.10086455331411, 82.77680140597539, 49.25373134328358, 24.269005847953213, 45.7002457002457, 59.02777777777778],\n",
    "    # 'cost\\nsparse/sparse\\nsequential'\n",
    "    \n",
    "    # delta \n",
    "    # 'cost\\nall\\nsequential\\ndelta'\n",
    "    # 'cost\\ndescr1x1_1\\nsequential\\ndelta': [27.47701736465781, 52.16284987277354, 8.011049723756907, 56.289308176100626, 16.953316953316953, 23.497267759562842, 89.8949070331447, 76.732249786142, 74.03100775193798, 74.03100775193798, 74.64635473340587, 17.052980132450333, 100.0, 4.597701149425287, 26.17801047120419, 8.13953488372093, 14.414414414414415, 14.414414414414415, 4.129793510324483, 59.166666666666664, 32.97872340425532, 75.08813160987074, 31.963470319634702, 98.59154929577466, 63.793103448275865, 66.02150537634408, 35.55555555555556, 23.62204724409449, 100.0, 89.97118155619597, 89.97118155619597, 82.77680140597539, 30.597014925373134, 58.187134502923975, 35.62653562653563, 44.44444444444444],\n",
    "    # 'cost\\nvector/sparse\\nsequential\\ndelta'\n",
    "    # 'cost\\nsparse/sparse\\nsequential\\ndelta'\n",
    "    \n",
    "})\n",
    "# model_accuracies.describe()\n",
    "\n",
    "\n",
    "plt.figure(figsize=(model_accuracies.shape[1]*1.5,4))  \n",
    "sns.violinplot(model_accuracies, color='w', width=0.95)\n",
    "plt.plot()\n",
    "plt.ylabel('Prediction accuracy (%)')\n",
    "plt.ylim((0,100))\n",
    "plt.show()"
   ]
  },
  {
   "cell_type": "code",
   "execution_count": 3,
   "metadata": {},
   "outputs": [
    {
     "name": "stderr",
     "output_type": "stream",
     "text": [
      "c:\\users\\elias\\appdata\\local\\conda\\conda\\envs\\tensorflow\\lib\\site-packages\\seaborn\\categorical.py:2342: UserWarning: The violinplot API has been changed. Attempting to adjust your arguments for the new API (which might not work). Please update your code. See the version 0.6 release notes for more info.\n",
      "  warnings.warn(msg, UserWarning)\n"
     ]
    },
    {
     "data": {
      "image/png": "[encoded data removed]",
      "text/plain": [
       "<matplotlib.figure.Figure at 0x17f5c2c8550>"
      ]
     },
     "metadata": {},
     "output_type": "display_data"
    }
   ],
   "source": [
    "model_accuracies = pd.DataFrame({\n",
    "#     'random': [25.077399380804955, 23.58490566037736, 21.153846153846153, 39.308176100628934, 22.474747474747474, 29.746835443037973, 62.33766233766234, 64.54054054054053, 72.86821705426357, 77.13178294573643, 70.07616974972797, 21.153846153846153, 25.67049808429119, 71.9029374201788, 16.49214659685864, 22.674418604651162, 15.315315315315313, 17.117117117117118, 19.236016371077763, 35.25179856115108, 32.90653008962868, 26.548672566371685, 27.500000000000004, 16.666666666666664, 25.653206650831358, 39.26940639269406, 27.627627627627625, 79.3103448275862, 44.086021505376344, 37.77777777777778, 28.40909090909091, 60.71428571428571, 55.666666666666664, 46.833333333333336, 78.03163444639719, 12.643678160919542, 21.34502923976608, 30.473372781065088, 45.66929133858268],\n",
    "#     'heuristic\\ndense\\nchords': [31.57894736842105, 69.33962264150944, 48.29059829059829, 72.32704402515722, 82.07070707070707, 29.11392405063291, 59.540459540459544, 63.78378378378379, 61.240310077519375, 61.240310077519375, 71.27312295973884, 36.05769230769231, 0.0, 100.0, 1.832460732984293, 0.0, 9.90990990990991, 9.90990990990991, 6.2755798090040935, 6.330935251798561, 7.810499359795134, 94.98525073746312, 49.375, 0.0, 32.304038004750595, 100.0, 70.57057057057057, 75.86206896551724, 62.58064516129033, 68.88888888888889, 75.0, 100.0, 97.83333333333334, 97.83333333333334, 82.77680140597539, 72.41379310344827, 42.39766081871345, 83.4319526627219, 90.94488188976378],\n",
    "    #distance\\nchords:\n",
    "#     'baseline\\ndistance': [52.78637770897833, 75.94339622641509, 25.64102564102564, 66.0377358490566, 79.04040404040404, 49.36708860759494, 67.33266733266733, 76.75675675675676, 81.3953488372093, 81.3953488372093, 71.9260065288357, 31.971153846153843, 0.0, 100.0, 7.853403141361256, 0.0, 9.90990990990991, 9.90990990990991, 66.84856753069577, 70.07194244604317, 24.583866837387962, 74.92625368731564, 45.208333333333336, 0.0, 56.76959619952494, 100.0, 91.29129129129129, 72.41379310344827, 63.87096774193548, 68.88888888888889, 75.0, 100.0, 80.5, 80.5, 73.81370826010544, 58.620689655172406, 80.7017543859649, 66.27218934911244, 84.64566929133859],\n",
    "\n",
    "#     'distance\\nsequential': [23.595505617977526, 44.783715012722645, 12.01657458563536, 55.660377358490564, 37.59213759213759, 50.27322404371585, 64.18755052546483, 72.71171941830625, 81.3953488372093, 81.3953488372093, 72.57889009793253, 18.543046357615893, 82.43840808591283, 100.0, 0.0, 6.976744186046512, 8.108108108108109, 8.108108108108109, 65.48672566371681, 1.0416666666666665, 0.0, 15.511163337250295, 100.0, 53.20813771517997, 74.13793103448276, 53.76344086021505, 62.22222222222222, 29.133858267716533, 100.0, 97.80979827089337, 97.80979827089337, 73.81370826010544, 35.82089552238806, 62.28070175438597, 71.25307125307125, 79.16666666666666, 52.5784609038, 52.5784609038, 52.5784609038],\n",
    "#     'probabilty\\nlookup': [13.993871297242084, 0.0, 8.011049723756907, 40.25157232704403, 43.48894348894349, 20.76502732240437, 59.660468876313665, 59.53806672369547, 67.44186046511628, 67.44186046511628, 66.48531011969531, 7.9470198675496695, 63.61339229311434, 10.727969348659004, 29.84293193717277, 1.744186046511628, 40.54054054054054, 40.54054054054054, 87.97554347826086, 88.4180790960452, 62.22791293213829, 38.05309734513274, 24.583333333333332, 40.42553191489361, 17.97884841363102, 89.04109589041096, 9.702660406885759, 75.86206896551724, 45.16129032258064, 15.555555555555555, 27.559055118110237, 70.0, 53.14121037463977, 53.14121037463977, 73.63796133567662, 4.477611940298507, 1.7543859649122806, 33.90663390663391, 54.166666666666664],\n",
    "\n",
    "    \n",
    "#     'direct\\ndescriptors': [46.47599591419816, 35.11450381679389, 41.85082872928177, 78.30188679245283, 28.746928746928745, 53.551912568306015, 68.06790622473726, 70.82976903336184, 72.09302325581395, 72.09302325581395, 86.18063112078346, 73.17880794701986, 0.4421983575489577, 6.513409961685824, 81.41361256544502, 1.744186046511628, 50.45045045045045, 50.45045045045045, 1.563562202583277, 1.4124293785310735, 71.95902688860436, 69.91150442477876, 53.125, 98.58156028368793, 74.03055229142186, 43.83561643835616, 82.62910798122066, 77.58620689655173, 87.09677419354838, 55.55555555555556, 68.50393700787401, 100.0, 74.00576368876081, 74.00576368876081, 98.94551845342706, 52.98507462686567, 81.28654970760235, 50.61425061425061, 69.09722222222221],\n",
    "#     'direct\\nvector/sparse': [49.02962206332993, 50.89058524173028, 37.84530386740331, 2.515723270440252, 26.289926289926292, 52.459016393442624, 75.26273241713824, 73.48160821214714, 72.09302325581395, 72.09302325581395, 57.889009793253535, 49.337748344370866, 18.19330385344283, 4.597701149425287, 45.287958115183244, 47.093023255813954, 36.03603603603604, 36.03603603603604, 2.175390890550646, 2.048022598870056, 34.44302176696543, 48.96755162241888, 58.75, 48.226950354609926, 74.73560517038777, 32.87671232876712, 97.0266040688576, 75.86206896551724, 15.913978494623656, 71.11111111111111, 62.20472440944882, 100.0, 95.04322766570606, 95.04322766570606, 57.46924428822495, 77.61194029850746, 45.90643274853801, 58.47665847665847, 59.02777777777778],    \n",
    "#     'direct\\nsparse': [54.64759959141981, 14.249363867684478, 40.607734806629836, 80.18867924528303, 24.815724815724817, 59.01639344262295, 77.76879547291836, 80.4961505560308, 72.09302325581395, 72.09302325581395, 80.41349292709467, 55.4635761589404, 88.3133291219204, 6.641123882503193, 87.43455497382199, 0.0, 26.126126126126124, 26.126126126126124, 1.563562202583277, 1.5536723163841808, 92.82970550576184, 51.32743362831859, 60.62499999999999, 2.8368794326241136, 54.64159811985899, 11.87214611872146, 95.77464788732394, 79.3103448275862, 76.77419354838709, 22.22222222222222, 65.35433070866141, 100.0, 95.79250720461096, 95.79250720461096, 98.94551845342706, 76.86567164179104, 42.69005847953216, 40.04914004914005, 56.25],\n",
    "#     'direct\\nsparse\\ndelta': [48.825331971399386, 35.36895674300254, 51.38121546961326, 50.62893081761006, 29.72972972972973, 34.97267759562842, 74.37348423605498, 70.74422583404619, 79.84496124031007, 79.84496124031007, 73.12295973884657, 30.79470198675497, 38.72394188250158, 82.88633461047255, 71.72774869109948, 18.6046511627907, 37.83783783783784, 37.83783783783784, 7.0020394289598915, 7.4858757062146895, 60.43533930857875, 42.47787610619469, 34.166666666666664, 35.46099290780142, 18.44888366627497, 10.95890410958904, 71.04851330203444, 74.13793103448276, 44.086021505376344, 31.11111111111111, 75.59055118110236, 60.0, 43.861671469740635, 43.861671469740635, 79.08611599297012, 38.80597014925373, 10.526315789473683, 36.85503685503686, 48.61111111111111],\n",
    "#     'direct\\ndescriptors\\ndelta': [38.20224719101123, 24.427480916030532, 25.828729281767952, 60.37735849056604, 54.791154791154796, 37.704918032786885, 63.94502829426031, 67.75021385799829, 67.44186046511628, 67.44186046511628, 72.90533188248097, 35.59602649006622, 65.76121288692356, 4.725415070242656, 41.62303664921466, 0.0, 33.33333333333333, 33.33333333333333, 39.15703602991162, 37.35875706214689, 8.194622279129321, 31.268436578171094, 67.91666666666667, 54.60992907801418, 44.65334900117509, 33.33333333333333, 70.89201877934272, 58.620689655172406, 66.45161290322581, 13.333333333333334, 39.37007874015748, 98.26086956521739, 92.507204610951, 92.507204610951, 98.94551845342706, 51.49253731343284, 68.42105263157895, 34.3980343980344, 46.52777777777778],    \n",
    "    \n",
    "    \n",
    "    'cost\\nsequential': [68.3104284559418, 77.24550898203593, 62.7906976744186, 62.7906976744186, 65.17954298150164, 5.960264900662252, 4.611497157296273, 4.725415070242656, 10.471204188481675, 98.83720930232558, 66.66666666666666, 66.66666666666666, 53.392330383480825, 26.875, 4.609929078014184, 35.84018801410106, 32.87671232876712, 97.0266040688576, 82.75862068965517, 8.60215053763441, 44.44444444444444, 49.60629921259843, 100.0, 79.13544668587896, 79.13544668587896, 98.94551845342706, 50.0, 46.198830409356724, 41.27764127764127, 59.02777777777778],\n",
    "    'direct\\nsequential': [70.00808407437349, 72.28400342172797, 62.7906976744186, 62.7906976744186, 77.36670293797606, 34.105960264900666, 0.0, 86.97318007662835, 18.32460732984293, 0.0, 13.513513513513514, 13.513513513513514, 92.33038348082596, 51.87500000000001, 52.836879432624116, 37.01527614571093, 99.54337899543378, 95.30516431924883, 77.58620689655173, 86.45161290322581, 77.77777777777779, 28.346456692913385, 100.0, 80.51873198847262, 80.51873198847262, 82.77680140597539, 21.641791044776117, 51.75438596491229, 82.30958230958231, 77.77777777777779],\n",
    "    \n",
    "#     'cost\\ndescriptors': [28.600612870275793, 14.75826972010178, 9.530386740331492, 7.547169811320755, 29.238329238329236, 48.08743169398907, 65.96604688763136, 64.41402908468777, 67.44186046511628, 67.44186046511628, 66.81175190424375, 11.258278145695364, 35.69172457359444, 4.597701149425287, 13.350785340314136, 0.0, 10.81081081081081, 10.81081081081081, 7.273963290278722, 6.567796610169492, 76.95262483994878, 78.46607669616519, 2.5, 42.5531914893617, 52.526439482961216, 54.337899543378995, 47.73082942097027, 74.13793103448276, 5.806451612903226, 28.888888888888886, 48.031496062992126, 70.0, 57.52161383285303, 57.52161383285303, 98.94551845342706, 27.611940298507463, 54.385964912280706, 47.665847665847664, 65.625],\n",
    "#     'cost\\nvector/sparse': [49.43820224719101, 10.941475826972011, 46.54696132596685, 64.46540880503144, 68.05896805896806, 31.693989071038253, 66.85529506871464, 68.17792985457656, 62.7906976744186, 62.7906976744186, 75.62568008705114, 16.39072847682119, 89.38723941882502, 6.641123882503193, 15.968586387434556, 1.1627906976744187, 19.81981981981982, 19.81981981981982, 5.370496261046907, 5.508474576271186, 96.28681177976952, 85.54572271386431, 23.75, 0.0, 9.048178613396004, 100.0, 55.712050078247266, 79.3103448275862, 83.22580645161291, 11.11111111111111, 55.90551181102362, 81.73913043478261, 84.14985590778097, 84.14985590778097, 98.94551845342706, 25.37313432835821, 42.39766081871345, 52.08845208845209, 64.58333333333334],\n",
    "#     'cost\\nsparse': [33.09499489274771, 19.083969465648856, 41.02209944751381, 75.15723270440252, 33.660933660933665, 27.322404371584703, 81.00242522231204, 75.0213857998289, 72.09302325581395, 72.09302325581395, 80.41349292709467, 23.178807947019866, 36.38660770688566, 26.56449553001277, 8.638743455497382, 12.790697674418606, 18.01801801801802, 18.01801801801802, 7.8178110129163825, 8.050847457627118, 29.705505761843792, 41.29793510324484, 43.958333333333336, 12.76595744680851, 13.631022326674499, 32.87671232876712, 93.42723004694837, 79.3103448275862, 74.83870967741936, 33.33333333333333, 55.90551181102362, 71.73913043478261, 48.70317002881844, 48.70317002881844, 82.77680140597539, 10.44776119402985, 11.403508771929824, 47.420147420147416, 62.84722222222222],\n",
    "#     'cost\\nsparse\\ndelta': [28.907048008171603, 7.633587786259542, 22.790055248618785, 82.70440251572327, 11.793611793611793, 28.415300546448087, 62.894098625707365, 66.72369546621043, 82.94573643410853, 82.94573643410853, 85.63656147986943, 16.39072847682119, 35.69172457359444, 64.62324393358875, 6.020942408376963, 0.5813953488372093, 36.93693693693694, 36.93693693693694, 19.850441876274644, 18.785310734463277, 45.07042253521127, 27.43362831858407, 43.75, 8.865248226950355, 45.475910693302, 11.415525114155251, 27.54303599374022, 65.51724137931035, 37.41935483870968, 26.666666666666668, 33.85826771653544, 90.8695652173913, 62.939481268011534, 62.939481268011534, 90.15817223198594, 17.16417910447761, 30.116959064327485, 31.941031941031937, 56.94444444444444],\n",
    "#     'cost\\ndescriptors\\ndelta': [32.17568947906027, 20.610687022900763, 29.972375690607734, 61.63522012578616, 10.81081081081081, 48.63387978142077, 61.843168957154404, 70.74422583404619, 72.09302325581395, 72.09302325581395, 78.89009793253537, 47.019867549668874, 100.0, 4.597701149425287, 45.287958115183244, 35.46511627906977, 36.93693693693694, 36.93693693693694, 15.771583956492183, 13.418079096045199, 28.55313700384123, 54.572271386430685, 15.833333333333332, 48.226950354609926, 14.45358401880141, 0.0, 76.21283255086072, 72.41379310344827, 13.763440860215054, 8.88888888888889, 48.818897637795274, 100.0, 93.48703170028818, 93.48703170028818, 98.94551845342706, 63.43283582089553, 57.60233918128655, 29.484029484029485, 36.80555555555556],\n",
    "\n",
    "})\n",
    "# model_accuracies.describe()\n",
    "\n",
    "\n",
    "plt.figure(figsize=(model_accuracies.shape[1]*1.5,4))  \n",
    "sns.violinplot(model_accuracies, color='w', width=0.95)\n",
    "plt.plot()\n",
    "plt.ylabel('Prediction accuracy (%)')\n",
    "plt.ylim((0,100))\n",
    "plt.show()\n",
    "\n",
    "# all no heuristics!"
   ]
  },
  {
   "cell_type": "code",
   "execution_count": 4,
   "metadata": {},
   "outputs": [
    {
     "data": {
      "text/plain": [
       "cost\\nsequential      56.210054\n",
       "direct\\nsequential    71.146044\n",
       "dtype: float64"
      ]
     },
     "execution_count": 4,
     "metadata": {},
     "output_type": "execute_result"
    }
   ],
   "source": [
    "model_accuracies.median()"
   ]
  },
  {
   "cell_type": "code",
   "execution_count": 98,
   "metadata": {},
   "outputs": [
    {
     "data": {
      "text/html": [
       "<div>\n",
       "<style>\n",
       "    .dataframe thead tr:only-child th {\n",
       "        text-align: right;\n",
       "    }\n",
       "\n",
       "    .dataframe thead th {\n",
       "        text-align: left;\n",
       "    }\n",
       "\n",
       "    .dataframe tbody tr th {\n",
       "        vertical-align: top;\n",
       "    }\n",
       "</style>\n",
       "<table border=\"1\" class=\"dataframe\">\n",
       "  <thead>\n",
       "    <tr style=\"text-align: right;\">\n",
       "      <th></th>\n",
       "      <th>next_has_pitch_11</th>\n",
       "      <th>next_has_pitch_12</th>\n",
       "      <th>next_has_pitch_13</th>\n",
       "      <th>next_has_pitch_14</th>\n",
       "      <th>next_has_pitch_15</th>\n",
       "      <th>next_has_pitch_16</th>\n",
       "      <th>next_has_pitch_17</th>\n",
       "      <th>next_has_pitch_18</th>\n",
       "      <th>next_has_pitch_19</th>\n",
       "      <th>next_has_pitch_20</th>\n",
       "      <th>...</th>\n",
       "      <th>string6_fret16_played</th>\n",
       "      <th>string6_fret17_played</th>\n",
       "      <th>string6_fret18_played</th>\n",
       "      <th>string6_fret19_played</th>\n",
       "      <th>string6_fret20_played</th>\n",
       "      <th>string6_fret21_played</th>\n",
       "      <th>string6_fret22_played</th>\n",
       "      <th>string6_fret23_played</th>\n",
       "      <th>string6_fret24_played</th>\n",
       "      <th>probs_1</th>\n",
       "    </tr>\n",
       "  </thead>\n",
       "  <tbody>\n",
       "    <tr>\n",
       "      <th>count</th>\n",
       "      <td>257194.0</td>\n",
       "      <td>257194.0</td>\n",
       "      <td>257194.0</td>\n",
       "      <td>257194.0</td>\n",
       "      <td>257194.0</td>\n",
       "      <td>257194.000000</td>\n",
       "      <td>257194.000000</td>\n",
       "      <td>257194.0</td>\n",
       "      <td>257194.000000</td>\n",
       "      <td>257194.0</td>\n",
       "      <td>...</td>\n",
       "      <td>257194.000000</td>\n",
       "      <td>257194.000000</td>\n",
       "      <td>257194.000000</td>\n",
       "      <td>257194.000000</td>\n",
       "      <td>257194.000000</td>\n",
       "      <td>257194.000000</td>\n",
       "      <td>257194.000000</td>\n",
       "      <td>257194.000000</td>\n",
       "      <td>257194.000000</td>\n",
       "      <td>257194.000000</td>\n",
       "    </tr>\n",
       "    <tr>\n",
       "      <th>mean</th>\n",
       "      <td>0.0</td>\n",
       "      <td>0.0</td>\n",
       "      <td>0.0</td>\n",
       "      <td>0.0</td>\n",
       "      <td>0.0</td>\n",
       "      <td>0.000023</td>\n",
       "      <td>0.000121</td>\n",
       "      <td>0.0</td>\n",
       "      <td>0.000152</td>\n",
       "      <td>0.0</td>\n",
       "      <td>...</td>\n",
       "      <td>0.000708</td>\n",
       "      <td>0.003787</td>\n",
       "      <td>0.000902</td>\n",
       "      <td>0.002675</td>\n",
       "      <td>0.001038</td>\n",
       "      <td>0.000323</td>\n",
       "      <td>0.001124</td>\n",
       "      <td>0.000019</td>\n",
       "      <td>0.000369</td>\n",
       "      <td>0.822027</td>\n",
       "    </tr>\n",
       "    <tr>\n",
       "      <th>std</th>\n",
       "      <td>0.0</td>\n",
       "      <td>0.0</td>\n",
       "      <td>0.0</td>\n",
       "      <td>0.0</td>\n",
       "      <td>0.0</td>\n",
       "      <td>0.004830</td>\n",
       "      <td>0.010978</td>\n",
       "      <td>0.0</td>\n",
       "      <td>0.012313</td>\n",
       "      <td>0.0</td>\n",
       "      <td>...</td>\n",
       "      <td>0.026592</td>\n",
       "      <td>0.061422</td>\n",
       "      <td>0.030021</td>\n",
       "      <td>0.051652</td>\n",
       "      <td>0.032203</td>\n",
       "      <td>0.017961</td>\n",
       "      <td>0.033502</td>\n",
       "      <td>0.004409</td>\n",
       "      <td>0.019216</td>\n",
       "      <td>0.262865</td>\n",
       "    </tr>\n",
       "    <tr>\n",
       "      <th>min</th>\n",
       "      <td>0.0</td>\n",
       "      <td>0.0</td>\n",
       "      <td>0.0</td>\n",
       "      <td>0.0</td>\n",
       "      <td>0.0</td>\n",
       "      <td>0.000000</td>\n",
       "      <td>0.000000</td>\n",
       "      <td>0.0</td>\n",
       "      <td>0.000000</td>\n",
       "      <td>0.0</td>\n",
       "      <td>...</td>\n",
       "      <td>0.000000</td>\n",
       "      <td>0.000000</td>\n",
       "      <td>0.000000</td>\n",
       "      <td>0.000000</td>\n",
       "      <td>0.000000</td>\n",
       "      <td>0.000000</td>\n",
       "      <td>0.000000</td>\n",
       "      <td>0.000000</td>\n",
       "      <td>0.000000</td>\n",
       "      <td>0.000223</td>\n",
       "    </tr>\n",
       "    <tr>\n",
       "      <th>25%</th>\n",
       "      <td>0.0</td>\n",
       "      <td>0.0</td>\n",
       "      <td>0.0</td>\n",
       "      <td>0.0</td>\n",
       "      <td>0.0</td>\n",
       "      <td>0.000000</td>\n",
       "      <td>0.000000</td>\n",
       "      <td>0.0</td>\n",
       "      <td>0.000000</td>\n",
       "      <td>0.0</td>\n",
       "      <td>...</td>\n",
       "      <td>0.000000</td>\n",
       "      <td>0.000000</td>\n",
       "      <td>0.000000</td>\n",
       "      <td>0.000000</td>\n",
       "      <td>0.000000</td>\n",
       "      <td>0.000000</td>\n",
       "      <td>0.000000</td>\n",
       "      <td>0.000000</td>\n",
       "      <td>0.000000</td>\n",
       "      <td>0.734043</td>\n",
       "    </tr>\n",
       "    <tr>\n",
       "      <th>50%</th>\n",
       "      <td>0.0</td>\n",
       "      <td>0.0</td>\n",
       "      <td>0.0</td>\n",
       "      <td>0.0</td>\n",
       "      <td>0.0</td>\n",
       "      <td>0.000000</td>\n",
       "      <td>0.000000</td>\n",
       "      <td>0.0</td>\n",
       "      <td>0.000000</td>\n",
       "      <td>0.0</td>\n",
       "      <td>...</td>\n",
       "      <td>0.000000</td>\n",
       "      <td>0.000000</td>\n",
       "      <td>0.000000</td>\n",
       "      <td>0.000000</td>\n",
       "      <td>0.000000</td>\n",
       "      <td>0.000000</td>\n",
       "      <td>0.000000</td>\n",
       "      <td>0.000000</td>\n",
       "      <td>0.000000</td>\n",
       "      <td>0.960378</td>\n",
       "    </tr>\n",
       "    <tr>\n",
       "      <th>75%</th>\n",
       "      <td>0.0</td>\n",
       "      <td>0.0</td>\n",
       "      <td>0.0</td>\n",
       "      <td>0.0</td>\n",
       "      <td>0.0</td>\n",
       "      <td>0.000000</td>\n",
       "      <td>0.000000</td>\n",
       "      <td>0.0</td>\n",
       "      <td>0.000000</td>\n",
       "      <td>0.0</td>\n",
       "      <td>...</td>\n",
       "      <td>0.000000</td>\n",
       "      <td>0.000000</td>\n",
       "      <td>0.000000</td>\n",
       "      <td>0.000000</td>\n",
       "      <td>0.000000</td>\n",
       "      <td>0.000000</td>\n",
       "      <td>0.000000</td>\n",
       "      <td>0.000000</td>\n",
       "      <td>0.000000</td>\n",
       "      <td>1.000000</td>\n",
       "    </tr>\n",
       "    <tr>\n",
       "      <th>max</th>\n",
       "      <td>0.0</td>\n",
       "      <td>0.0</td>\n",
       "      <td>0.0</td>\n",
       "      <td>0.0</td>\n",
       "      <td>0.0</td>\n",
       "      <td>1.000000</td>\n",
       "      <td>1.000000</td>\n",
       "      <td>0.0</td>\n",
       "      <td>1.000000</td>\n",
       "      <td>0.0</td>\n",
       "      <td>...</td>\n",
       "      <td>1.000000</td>\n",
       "      <td>1.000000</td>\n",
       "      <td>1.000000</td>\n",
       "      <td>1.000000</td>\n",
       "      <td>1.000000</td>\n",
       "      <td>1.000000</td>\n",
       "      <td>1.000000</td>\n",
       "      <td>1.000000</td>\n",
       "      <td>1.000000</td>\n",
       "      <td>1.000000</td>\n",
       "    </tr>\n",
       "  </tbody>\n",
       "</table>\n",
       "<p>8 rows × 229 columns</p>\n",
       "</div>"
      ],
      "text/plain": [
       "       next_has_pitch_11  next_has_pitch_12  next_has_pitch_13  \\\n",
       "count           257194.0           257194.0           257194.0   \n",
       "mean                 0.0                0.0                0.0   \n",
       "std                  0.0                0.0                0.0   \n",
       "min                  0.0                0.0                0.0   \n",
       "25%                  0.0                0.0                0.0   \n",
       "50%                  0.0                0.0                0.0   \n",
       "75%                  0.0                0.0                0.0   \n",
       "max                  0.0                0.0                0.0   \n",
       "\n",
       "       next_has_pitch_14  next_has_pitch_15  next_has_pitch_16  \\\n",
       "count           257194.0           257194.0      257194.000000   \n",
       "mean                 0.0                0.0           0.000023   \n",
       "std                  0.0                0.0           0.004830   \n",
       "min                  0.0                0.0           0.000000   \n",
       "25%                  0.0                0.0           0.000000   \n",
       "50%                  0.0                0.0           0.000000   \n",
       "75%                  0.0                0.0           0.000000   \n",
       "max                  0.0                0.0           1.000000   \n",
       "\n",
       "       next_has_pitch_17  next_has_pitch_18  next_has_pitch_19  \\\n",
       "count      257194.000000           257194.0      257194.000000   \n",
       "mean            0.000121                0.0           0.000152   \n",
       "std             0.010978                0.0           0.012313   \n",
       "min             0.000000                0.0           0.000000   \n",
       "25%             0.000000                0.0           0.000000   \n",
       "50%             0.000000                0.0           0.000000   \n",
       "75%             0.000000                0.0           0.000000   \n",
       "max             1.000000                0.0           1.000000   \n",
       "\n",
       "       next_has_pitch_20      ...        string6_fret16_played  \\\n",
       "count           257194.0      ...                257194.000000   \n",
       "mean                 0.0      ...                     0.000708   \n",
       "std                  0.0      ...                     0.026592   \n",
       "min                  0.0      ...                     0.000000   \n",
       "25%                  0.0      ...                     0.000000   \n",
       "50%                  0.0      ...                     0.000000   \n",
       "75%                  0.0      ...                     0.000000   \n",
       "max                  0.0      ...                     1.000000   \n",
       "\n",
       "       string6_fret17_played  string6_fret18_played  string6_fret19_played  \\\n",
       "count          257194.000000          257194.000000          257194.000000   \n",
       "mean                0.003787               0.000902               0.002675   \n",
       "std                 0.061422               0.030021               0.051652   \n",
       "min                 0.000000               0.000000               0.000000   \n",
       "25%                 0.000000               0.000000               0.000000   \n",
       "50%                 0.000000               0.000000               0.000000   \n",
       "75%                 0.000000               0.000000               0.000000   \n",
       "max                 1.000000               1.000000               1.000000   \n",
       "\n",
       "       string6_fret20_played  string6_fret21_played  string6_fret22_played  \\\n",
       "count          257194.000000          257194.000000          257194.000000   \n",
       "mean                0.001038               0.000323               0.001124   \n",
       "std                 0.032203               0.017961               0.033502   \n",
       "min                 0.000000               0.000000               0.000000   \n",
       "25%                 0.000000               0.000000               0.000000   \n",
       "50%                 0.000000               0.000000               0.000000   \n",
       "75%                 0.000000               0.000000               0.000000   \n",
       "max                 1.000000               1.000000               1.000000   \n",
       "\n",
       "       string6_fret23_played  string6_fret24_played        probs_1  \n",
       "count          257194.000000          257194.000000  257194.000000  \n",
       "mean                0.000019               0.000369       0.822027  \n",
       "std                 0.004409               0.019216       0.262865  \n",
       "min                 0.000000               0.000000       0.000223  \n",
       "25%                 0.000000               0.000000       0.734043  \n",
       "50%                 0.000000               0.000000       0.960378  \n",
       "75%                 0.000000               0.000000       1.000000  \n",
       "max                 1.000000               1.000000       1.000000  \n",
       "\n",
       "[8 rows x 229 columns]"
      ]
     },
     "execution_count": 98,
     "metadata": {},
     "output_type": "execute_result"
    }
   ],
   "source": [
    "data = pd.read_csv('./data/_sparse_chord/training_data.csv')\n",
    "data.describe()"
   ]
  },
  {
   "cell_type": "code",
   "execution_count": 102,
   "metadata": {},
   "outputs": [
    {
     "name": "stdout",
     "output_type": "stream",
     "text": [
      "150.0 / 150 1.0\n"
     ]
    }
   ],
   "source": [
    "max_ = data.max()[[col for col in data.columns if col.startswith('string')]]\n",
    "print(sum(max_), '/', len(max_), sum(max_) / len(max_))"
   ]
  },
  {
   "cell_type": "code",
   "execution_count": 109,
   "metadata": {
    "collapsed": true
   },
   "outputs": [],
   "source": [
    "del data"
   ]
  },
  {
   "cell_type": "code",
   "execution_count": null,
   "metadata": {
    "collapsed": true
   },
   "outputs": [],
   "source": []
  }
 ],
 "metadata": {
  "kernelspec": {
   "display_name": "Python 3",
   "language": "python",
   "name": "python3"
  },
  "language_info": {
   "codemirror_mode": {
    "name": "ipython",
    "version": 3
   },
   "file_extension": ".py",
   "mimetype": "text/x-python",
   "name": "python",
   "nbconvert_exporter": "python",
   "pygments_lexer": "ipython3",
   "version": "3.5.3"
  }
 },
 "nbformat": 4,
 "nbformat_minor": 2
}
