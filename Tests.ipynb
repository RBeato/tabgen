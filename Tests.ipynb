{
 "cells": [
  {
   "cell_type": "code",
   "execution_count": null,
   "metadata": {
    "collapsed": true
   },
   "outputs": [],
   "source": [
    "# --- some SANITY CHECKS to run ---\n",
    "%run run_sample.py\n",
    "parser.parse(input_files[0])\n",
    "seq_orig = parser.get_chord_fretting_sequence(1)\n",
    "solver.solve_multi(input_files, parser, save_files=True, verbose=2)\n",
    "seq_auto = parser.get_chord_fretting_sequence(1)\n",
    "seq_orig == seq_auto\n",
    "print([o==a for o,a in zip(seq_auto, seq_orig)])\n",
    "print([o.cost==a.cost for o,a in zip(seq_auto, seq_orig)])\n",
    "print([o.features==a.features for o,a in zip(seq_auto, seq_orig)])\n",
    "print([o._next_pitches==a.next_pitches for o,a in zip(seq_auto, seq_orig)])"
   ]
  },
  {
   "cell_type": "code",
   "execution_count": 3,
   "metadata": {},
   "outputs": [],
   "source": [
    "from tabgen.definitions import *\n",
    "from tabgen.modelling import *\n",
    "from tabgen.evaluation import DummyFrettingEvaluator"
   ]
  },
  {
   "cell_type": "code",
   "execution_count": 5,
   "metadata": {},
   "outputs": [
    {
     "data": {
      "text/plain": [
       "[ChordFretting(0.125, [NoteFretting(1, 9), NoteFretting(2, 11), NoteFretting(3, 11)], DummyFrettingEvaluator(), previous_chord_fretting set?: True),\n",
       " ChordFretting(0.125, [NoteFretting(1, 9), NoteFretting(3, 6), NoteFretting(4, 6)], DummyFrettingEvaluator(), previous_chord_fretting set?: True),\n",
       " ChordFretting(0.125, [NoteFretting(2, 4), NoteFretting(3, 6), NoteFretting(4, 6)], DummyFrettingEvaluator(), previous_chord_fretting set?: True),\n",
       " ChordFretting(0.125, [NoteFretting(2, 4), NoteFretting(3, 6), NoteFretting(5, 2)], DummyFrettingEvaluator(), previous_chord_fretting set?: True),\n",
       " ChordFretting(0.125, [NoteFretting(2, 4), NoteFretting(4, 1), NoteFretting(5, 2)], DummyFrettingEvaluator(), previous_chord_fretting set?: True)]"
      ]
     },
     "execution_count": 5,
     "metadata": {},
     "output_type": "execute_result"
    }
   ],
   "source": [
    "chord = Chord(0.125, [Pitch(49), Pitch(56), Pitch(61)], False)\n",
    "chord.get_chord_frettings(StringConfig.STANDARD_24_FRETS, DummyFrettingEvaluator())"
   ]
  },
  {
   "cell_type": "code",
   "execution_count": null,
   "metadata": {
    "collapsed": true
   },
   "outputs": [],
   "source": []
  }
 ],
 "metadata": {
  "kernelspec": {
   "display_name": "Python 3",
   "language": "python",
   "name": "python3"
  },
  "language_info": {
   "codemirror_mode": {
    "name": "ipython",
    "version": 3
   },
   "file_extension": ".py",
   "mimetype": "text/x-python",
   "name": "python",
   "nbconvert_exporter": "python",
   "pygments_lexer": "ipython3",
   "version": "3.5.3"
  }
 },
 "nbformat": 4,
 "nbformat_minor": 2
}
